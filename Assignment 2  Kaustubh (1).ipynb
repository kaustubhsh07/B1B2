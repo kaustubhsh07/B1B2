{
 "cells": [
  {
   "cell_type": "code",
   "execution_count": 14,
   "id": "9af6f546-4582-469e-b096-e05ea69b11da",
   "metadata": {},
   "outputs": [
    {
     "name": "stdout",
     "output_type": "stream",
     "text": [
      "Hello, kaustubh!\n",
      "Hi, Ujjwal!\n"
     ]
    }
   ],
   "source": [
    "#write a function  greet that takes two arguments: name (a string) and greeting\n",
    "# (a string with a default value of \"Hello\"). The function should return a greeting message\n",
    "\n",
    "\n",
    "def greet(name ,greeting=\"Hello\"):\n",
    "    return f\"{greeting}, {name}!\"\n",
    "\n",
    "print(greet(\"kaustubh\"))\n",
    "print(greet(\"Ujjwal\",\"Hi\"))\n",
    "\n"
   ]
  },
  {
   "cell_type": "code",
   "execution_count": 16,
   "id": "eaf571b2-f60c-44bb-936d-76854bff0fb2",
   "metadata": {},
   "outputs": [
    {
     "name": "stdout",
     "output_type": "stream",
     "text": [
      "Name: Kaustubh , Age: 18, City: Gorakhpur\n"
     ]
    }
   ],
   "source": [
    "#create a function create_profile that takes arguments for name, age, and city as named \n",
    "#arguments . The function should return a string like \"Name: Alice , Age: 25, City: New York\".\n",
    "#Ensure that the age argument has a default value of 18\n",
    "\n",
    "\n",
    "def create_profile(*,name, age =18, city):\n",
    "    return f\"Name: {name} , Age: {age}, City: {city}\"\n",
    "\n",
    "print(create_profile(name=\"Kaustubh\", city=\"Gorakhpur\"))\n",
    "\n",
    "\n",
    "\n"
   ]
  },
  {
   "cell_type": "code",
   "execution_count": 6,
   "id": "7366894a-a8a5-4775-a478-afa21bdd32f6",
   "metadata": {},
   "outputs": [],
   "source": [
    "# write a function sum_numbers that takes any number of positional arguments \n",
    "# (args and keyword arguments (*kwargs)).It should return the sum of all *args if they are numbers\n",
    "# Return a dictionary of all keyword arguments\n",
    "\n",
    "\n"
   ]
  },
  {
   "cell_type": "code",
   "execution_count": 18,
   "id": "e5f03fa4-20e7-4b82-8299-f1e95c8a847e",
   "metadata": {},
   "outputs": [
    {
     "name": "stdout",
     "output_type": "stream",
     "text": [
      "(54, {'x': 45, 'y': 'five'})\n"
     ]
    }
   ],
   "source": [
    "def sum_numbers(*args,**kwargs):\n",
    "    total = sum(arg for arg in args if isinstance(arg,(int,float)))\n",
    "    return total , kwargs\n",
    "\n",
    "print(sum_numbers(6,5,43, x = 45, y = \"five\"))"
   ]
  },
  {
   "cell_type": "code",
   "execution_count": null,
   "id": "63184a9a-9ab9-48e6-80aa-f1da7a4bed88",
   "metadata": {},
   "outputs": [],
   "source": [
    "# Q -4  Write a function that uses map and a lambda to return a list where each element is squared"
   ]
  },
  {
   "cell_type": "code",
   "execution_count": 20,
   "id": "0f92a9ef-a46f-4cf2-b3c8-3d9b4bcea7b1",
   "metadata": {},
   "outputs": [
    {
     "name": "stdout",
     "output_type": "stream",
     "text": [
      "[3844, 441, 1089, 25]\n"
     ]
    }
   ],
   "source": [
    "def sq(num):\n",
    "    return list(map(lambda  x: x**2 , num))\n",
    "\n",
    "print(sq([62,21,33,5]))"
   ]
  },
  {
   "cell_type": "code",
   "execution_count": 22,
   "id": "4f370cf7-656d-4fae-94d9-87d5e3c47d53",
   "metadata": {},
   "outputs": [],
   "source": [
    "# Q-5 Write a function that filters out all odd numbers from a list using filter  and a lamda function"
   ]
  },
  {
   "cell_type": "code",
   "execution_count": 24,
   "id": "f158b4b7-7a3e-49b5-8ebd-6973ac623d0b",
   "metadata": {},
   "outputs": [
    {
     "name": "stdout",
     "output_type": "stream",
     "text": [
      "[2, 32, 2]\n"
     ]
    }
   ],
   "source": [
    "def filterodd(num):\n",
    "    return list(filter(lambda x: x%2 == 0 , num))\n",
    "\n",
    "print(filterodd([2,3,3,32,33,2]))"
   ]
  },
  {
   "cell_type": "code",
   "execution_count": null,
   "id": "9489a981-3cd5-47ec-b1ab-8247084c951e",
   "metadata": {},
   "outputs": [],
   "source": [
    "# Q - 6 create a list comprehension that takes a list of numbers and return a list of their squares."
   ]
  },
  {
   "cell_type": "code",
   "execution_count": 67,
   "id": "a717c72c-9e6c-4a7f-a761-a347bbe3eb81",
   "metadata": {},
   "outputs": [
    {
     "name": "stdout",
     "output_type": "stream",
     "text": [
      "[0, 1, 4, 9, 16]\n",
      "[1, 4, 9, 16, 25]\n"
     ]
    }
   ],
   "source": [
    "sqrelements = [ x**2 for x in range (5) ]\n",
    "print(sqrelements)\n",
    "\n",
    "# 2nd method\n",
    "def square_elements(num):\n",
    "    return [x**2 for x in num]\n",
    "print(square_elements([1, 2, 3, 4, 5]))\n"
   ]
  },
  {
   "cell_type": "code",
   "execution_count": null,
   "id": "bde74c76-9357-49f0-9b2e-a1621ff0d20d",
   "metadata": {},
   "outputs": [],
   "source": [
    "# q-7 use a list comprehension to create a list of even numbers from 1 to 20 "
   ]
  },
  {
   "cell_type": "code",
   "execution_count": 74,
   "id": "3c06a823-d67d-44db-bd52-7751ded844a3",
   "metadata": {},
   "outputs": [
    {
     "name": "stdout",
     "output_type": "stream",
     "text": [
      "[2, 4, 6, 8, 10, 12, 14, 16, 18, 20]\n"
     ]
    }
   ],
   "source": [
    "sqrelements = [ x for x in range (1,21) if x % 2 ==0]\n",
    "print(sqrelements)\n"
   ]
  },
  {
   "cell_type": "code",
   "execution_count": null,
   "id": "49950796-5449-442f-840e-33429cfd086d",
   "metadata": {},
   "outputs": [],
   "source": [
    "# q - 8 write a function file_operations that creates a directory named \"test_folder\" using os.makedirs() .\n",
    "#Then, pause the execution for 3 seconds using time.sleep() , and finally delete the directory using os.rmdir().\n"
   ]
  },
  {
   "cell_type": "code",
   "execution_count": 82,
   "id": "f936cede-e4c2-45c7-b2c8-5d966458858c",
   "metadata": {},
   "outputs": [
    {
     "name": "stdout",
     "output_type": "stream",
     "text": [
      "Directory 'test_folder' created.\n",
      "pauses For 3 seconds \n",
      "Directory 'test_folder' deleted.\n"
     ]
    }
   ],
   "source": [
    "import os\n",
    "import time\n",
    "\n",
    "def file_operations():\n",
    "    \n",
    "    os.makedirs(\"test_folder\", exist_ok=True)      # Create a directory named \"test_folder\"\n",
    "    print(\"Directory 'test_folder' created.\")\n",
    "    \n",
    "    \n",
    "    time.sleep(3)\n",
    "    \n",
    "    # Delete the directory\n",
    "    os.rmdir(\"test_folder\")\n",
    "    print(\"pauses For 3 seconds \")\n",
    "    print(\"Directory 'test_folder' deleted.\")\n",
    "\n",
    "file_operations()\n"
   ]
  },
  {
   "cell_type": "code",
   "execution_count": null,
   "id": "5770f0d9-fdc4-4308-933b-fa236eb3e750",
   "metadata": {},
   "outputs": [],
   "source": [
    "# q - 9 write a python script that imports only sleep from the time module and renames it to pause.\n",
    "#Use it to pause execution for 2 seconds and print \"paused execution\""
   ]
  },
  {
   "cell_type": "code",
   "execution_count": 87,
   "id": "caaad54f-e0b8-4dda-ae16-0a953675c06e",
   "metadata": {},
   "outputs": [
    {
     "name": "stdout",
     "output_type": "stream",
     "text": [
      "Waiting for 2 seconds\n",
      "Paused execution...\n"
     ]
    }
   ],
   "source": [
    "from time import sleep as pause\n",
    "print(\"Waiting for 2 seconds\")\n",
    "# Pause execution for 2 seconds\n",
    "pause(2)\n",
    "\n",
    "# Print a message\n",
    "print(\"Paused execution...\")\n"
   ]
  },
  {
   "cell_type": "code",
   "execution_count": null,
   "id": "9583e1c6-bfa6-44d5-8801-8f884c93ed18",
   "metadata": {},
   "outputs": [],
   "source": [
    "# q -10 write a recursive function flatten_list that can flatten a nested list of any depth using *args and **kwargs"
   ]
  },
  {
   "cell_type": "code",
   "execution_count": 90,
   "id": "d9826289-1c32-47a1-9460-9b04fb08d1e5",
   "metadata": {},
   "outputs": [
    {
     "name": "stdout",
     "output_type": "stream",
     "text": [
      "[1, 2, 3, 4, 5, 6, 7, 8]\n"
     ]
    }
   ],
   "source": [
    "def flatten_list(*args):\n",
    "    flat_list = []\n",
    "    \n",
    "    for item in args:\n",
    "        if isinstance(item, list):\n",
    "            flat_list.extend(flatten_list(*item))  # Recursively flatten the nested list\n",
    "        else:\n",
    "            flat_list.append(item)  # Add non-list items directly\n",
    "    \n",
    "    return flat_list\n",
    "\n",
    "nested_list = [1, [2, [3, 4], 5], 6, [7, 8]]\n",
    "flattened = flatten_list(*nested_list)\n",
    "print(flattened)\n"
   ]
  },
  {
   "cell_type": "code",
   "execution_count": 92,
   "id": "eac644fc-4541-4c88-a84a-3d0b8ee2f4c7",
   "metadata": {},
   "outputs": [],
   "source": [
    "#using kwargs"
   ]
  },
  {
   "cell_type": "code",
   "execution_count": 94,
   "id": "51e4430f-cfe9-47c2-8f85-088dcd2a673b",
   "metadata": {},
   "outputs": [
    {
     "name": "stdout",
     "output_type": "stream",
     "text": [
      "[1, 2, 3, 4, 5, 6, 7, 8]\n"
     ]
    }
   ],
   "source": [
    "def flatten_list(nested_list, **kwargs):\n",
    "    flat_list = []\n",
    "    \n",
    "    for item in nested_list:\n",
    "        if isinstance(item, list):\n",
    "            # Recursively flatten the sublist\n",
    "            flat_list.extend(flatten_list(item, **kwargs))\n",
    "        else:\n",
    "            flat_list.append(item)\n",
    "    \n",
    "    return flat_list\n",
    "\n",
    "# Example usage\n",
    "nested = [1, [2, [3, 4], 5], 6, [7, 8]]\n",
    "flattened = flatten_list(nested)\n",
    "print(flattened)\n"
   ]
  },
  {
   "cell_type": "code",
   "execution_count": null,
   "id": "6d2a094a-7c15-4fc2-8ee1-ee219e924dc8",
   "metadata": {},
   "outputs": [],
   "source": []
  }
 ],
 "metadata": {
  "kernelspec": {
   "display_name": "Python 3 (ipykernel)",
   "language": "python",
   "name": "python3"
  },
  "language_info": {
   "codemirror_mode": {
    "name": "ipython",
    "version": 3
   },
   "file_extension": ".py",
   "mimetype": "text/x-python",
   "name": "python",
   "nbconvert_exporter": "python",
   "pygments_lexer": "ipython3",
   "version": "3.12.4"
  }
 },
 "nbformat": 4,
 "nbformat_minor": 5
}
