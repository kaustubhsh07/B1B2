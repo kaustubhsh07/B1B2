{
 "cells": [
  {
   "cell_type": "code",
   "execution_count": 7,
   "id": "de13b121-657c-4311-8ecc-5fdd621616c8",
   "metadata": {},
   "outputs": [
    {
     "name": "stdout",
     "output_type": "stream",
     "text": [
      "1728010867671826.0\n",
      "1728010867681720.0\n"
     ]
    }
   ],
   "source": [
    "#write a function that takes one input parameter (n) and evaluates an expression a=n*10 , for all values between 0 to n \n",
    "import time\n",
    "n = 100000\n",
    "\n",
    "def testfn(n):\n",
    "    for i in range (0,n):\n",
    "        a = i * 10 \n",
    "\n",
    "#estimate execution time of this function for n\n",
    "\n",
    "start_time = time.time() * 1000000\n",
    "print(start_time)\n",
    "\n",
    "testfn(n)\n",
    "\n",
    "end_time = time.time() * 1000000\n",
    "print(end_time)"
   ]
  },
  {
   "cell_type": "code",
   "execution_count": 9,
   "id": "e08b3c4e-a2ac-4756-acfb-51a914cd0e71",
   "metadata": {},
   "outputs": [
    {
     "name": "stdout",
     "output_type": "stream",
     "text": [
      "1728010885.6250067\n",
      "1728010885.6366193\n"
     ]
    }
   ],
   "source": [
    "#write a function that takes one input parameter (n) and evaluates an expression a=n*10 , for all values between 0 to n \n",
    "import time\n",
    "n = 100000\n",
    "\n",
    "def testfn(n):\n",
    "    for i in range (0,n):\n",
    "        a = i * 10 \n",
    "\n",
    "#estimate execution time of this function for n\n",
    "\n",
    "start_time = time.time() \n",
    "print(start_time)\n",
    "\n",
    "testfn(n)\n",
    "\n",
    "end_time = time.time()\n",
    "print(end_time)"
   ]
  },
  {
   "cell_type": "code",
   "execution_count": 11,
   "id": "b6ce028a-dca4-41b6-b621-5d10119f659a",
   "metadata": {},
   "outputs": [
    {
     "name": "stdout",
     "output_type": "stream",
     "text": [
      "1728010895323.6594\n",
      "1728010895335.7144\n"
     ]
    }
   ],
   "source": [
    "#write a function that takes one input parameter (n) and evaluates an expression a=n*10 , for all values between 0 to n \n",
    "import time\n",
    "n = 100000\n",
    "\n",
    "def testfn(n):\n",
    "    for i in range (0,n):\n",
    "        a = i * 10 \n",
    "\n",
    "#estimate execution time of this function for n\n",
    "\n",
    "start_time = time.time() * 1000\n",
    "print(start_time)\n",
    "\n",
    "testfn(n)\n",
    "\n",
    "end_time = time.time() * 1000\n",
    "print(end_time)"
   ]
  },
  {
   "cell_type": "code",
   "execution_count": null,
   "id": "71700ea2-9dde-454c-acb2-72a3d0d92642",
   "metadata": {},
   "outputs": [],
   "source": [
    "#write a function that takes one input parameter (n) and evaluates an expression a=n*10 , for all values between 0 to n \n",
    "import time\n",
    "n = 100000\n",
    "\n",
    "def testfn(n):\n",
    "    for i in range (0,n):\n",
    "        a = i * 10 \n",
    "\n",
    "#estimate execution time of this function for n\n",
    "\n",
    "start_time = time.time() * 1000000\n",
    "print(start_time)\n",
    "\n",
    "testfn(n)\n",
    "\n",
    "end_time = time.time() * 1000000\n",
    "print(end_time)\n",
    "print(f\"For n = {n} \\nExecution time is {end_time - start_time } micro seconds \")"
   ]
  },
  {
   "cell_type": "code",
   "execution_count": 39,
   "id": "9ce584b9-cab4-4db1-b8d0-0775ba02a04c",
   "metadata": {},
   "outputs": [
    {
     "name": "stdout",
     "output_type": "stream",
     "text": [
      "For n = 1000000 \n",
      "Execution time is 119698.25 micro seconds \n"
     ]
    }
   ],
   "source": [
    "#write a function that takes one input parameter (n) and evaluates an expression a=n*10 , for all values between 0 to n \n",
    "import time\n",
    "ns = [12323214, 12343414, 123123231 , 123141232]\n",
    "#n = 100000\n",
    "\n",
    "def testfn(n):\n",
    "    for i in range(0,n):\n",
    "        a = i * 10 \n",
    "\n",
    "#estimate execution time of this function for n\n",
    "def wrapper(func,args,*kwargs):\n",
    "    start_time = time.time() * 1000000\n",
    "\n",
    "    func(args,*kwargs)\n",
    "\n",
    "    end_time = time.time() * 1000000\n",
    "    \n",
    "\n",
    "    print(f\"For n = {n} \\nExecution time is {end_time - start_time } micro seconds \")\n",
    "\n",
    "n = 1000000\n",
    "wrapper(testfn,n)"
   ]
  },
  {
   "cell_type": "code",
   "execution_count": 61,
   "id": "abef7a04-9d76-43b1-b734-f1b0d17db7c0",
   "metadata": {},
   "outputs": [
    {
     "name": "stdout",
     "output_type": "stream",
     "text": [
      "For n = 1000000 \n",
      "Execution time is 69246.25 micro seconds \n"
     ]
    }
   ],
   "source": [
    "#write a function that takes one input parameter (n) and evaluates an expression a=n*10 , for all values between 0 to n \n",
    "import time\n",
    "ns = [12323214, 12343414, 123123231 , 123141232]\n",
    "#n = 100000\n",
    "\n",
    "def testfn(n):\n",
    "    for i in range(0,n):\n",
    "        a = i * 10 \n",
    "\n",
    "#estimate execution time of this function for n\n",
    "def wrapper(func,*args,**kwargs):\n",
    "    def wrapped(*args, **kwargs):\n",
    "        start_time = time.time() * 1000000\n",
    "\n",
    "        func(*args,**kwargs)\n",
    "\n",
    "        end_time = time.time() * 1000000\n",
    "    \n",
    "\n",
    "        print(f\"For n = {n} \\nExecution time is {end_time - start_time } micro seconds \")\n",
    "    return wrapped   \n",
    "\n",
    "n = 1000000\n",
    "wrapped_fn = wrapper(testfn,n)\n",
    "wrapped_fn(n)"
   ]
  },
  {
   "cell_type": "code",
   "execution_count": 65,
   "id": "78cde4a2-93e7-4ed6-a5df-acbf0ef04f62",
   "metadata": {},
   "outputs": [
    {
     "name": "stdout",
     "output_type": "stream",
     "text": [
      "For n = 1000000 \n",
      "Execution time is 3586947.25 micro seconds \n",
      "For n = 1000000 \n",
      "Execution time is 31346.25 micro seconds \n"
     ]
    }
   ],
   "source": [
    "import time\n",
    "ns = [12323214, 12343414, 123123231 , 123141232]\n",
    "#n = 100000\n",
    "\n",
    "def testfn(n):\n",
    "    for i in range(0,n):\n",
    "        a = i * 10 \n",
    "\n",
    "#estimate execution time of this function for n\n",
    "def wrapper(func,*args,**kwargs):\n",
    "    def wrapped(*args, **kwargs):\n",
    "        start_time = time.time() * 1000000\n",
    "\n",
    "        func(*args,**kwargs)\n",
    "\n",
    "        end_time = time.time() * 1000000\n",
    "    \n",
    "\n",
    "        print(f\"For n = {n} \\nExecution time is {end_time - start_time } micro seconds \")\n",
    "    return wrapped \n",
    "\n",
    "@wrapper\n",
    "def testfn(n):\n",
    "    for i in range(0,n):\n",
    "        a = i*10\n",
    "@wrapper\n",
    "def random1(n):\n",
    "    n**n\n",
    "random1(n)\n",
    "\n",
    "testfn(n)\n",
    "\n",
    "#usefull while using fastapi for web server or api server"
   ]
  },
  {
   "cell_type": "code",
   "execution_count": null,
   "id": "9ee2de3f-11ab-436d-852d-1d190a445a5a",
   "metadata": {},
   "outputs": [],
   "source": []
  }
 ],
 "metadata": {
  "kernelspec": {
   "display_name": "Python 3 (ipykernel)",
   "language": "python",
   "name": "python3"
  },
  "language_info": {
   "codemirror_mode": {
    "name": "ipython",
    "version": 3
   },
   "file_extension": ".py",
   "mimetype": "text/x-python",
   "name": "python",
   "nbconvert_exporter": "python",
   "pygments_lexer": "ipython3",
   "version": "3.12.4"
  }
 },
 "nbformat": 4,
 "nbformat_minor": 5
}
