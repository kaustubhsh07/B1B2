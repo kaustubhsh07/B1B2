{
 "cells": [
  {
   "cell_type": "code",
   "execution_count": 11,
   "id": "0e4783ef-4c14-4882-bc91-41f91cb78859",
   "metadata": {},
   "outputs": [
    {
     "name": "stdout",
     "output_type": "stream",
     "text": [
      "hello world\n",
      "<class 'str'>\n",
      "2812395369264\n"
     ]
    }
   ],
   "source": [
    "str1=\"hello world\"\n",
    "print(str1)\n",
    "print(type(str1))\n",
    "print(id(str1))"
   ]
  },
  {
   "cell_type": "raw",
   "id": "6d66712d-fa40-4a77-b576-434c1e6fce76",
   "metadata": {},
   "source": [
    "bool(-100)"
   ]
  },
  {
   "cell_type": "code",
   "execution_count": null,
   "id": "b2502da4-ce22-43f7-ba12-1c5853788e42",
   "metadata": {},
   "outputs": [],
   "source": []
  },
  {
   "cell_type": "code",
   "execution_count": 14,
   "id": "9cd4af25-bea6-4cba-b63f-0e83fbab9ace",
   "metadata": {},
   "outputs": [
    {
     "data": {
      "text/plain": [
       "True"
      ]
     },
     "execution_count": 14,
     "metadata": {},
     "output_type": "execute_result"
    }
   ],
   "source": [
    "bool(-100)"
   ]
  },
  {
   "cell_type": "code",
   "execution_count": 16,
   "id": "37c2dd5e-f31a-4379-b32f-cb196b216f65",
   "metadata": {},
   "outputs": [
    {
     "name": "stdin",
     "output_type": "stream",
     "text": [
      "enter your name: kaustubh \n"
     ]
    }
   ],
   "source": [
    "name = input(\"enter your name:\")"
   ]
  },
  {
   "cell_type": "code",
   "execution_count": 18,
   "id": "757c928f-40e0-49bc-ac0c-e5eec38d7ff2",
   "metadata": {},
   "outputs": [
    {
     "name": "stdin",
     "output_type": "stream",
     "text": [
      "enter your name: kallu kaliya\n"
     ]
    }
   ],
   "source": [
    "name = input(\"enter your name:\")"
   ]
  },
  {
   "cell_type": "code",
   "execution_count": 4,
   "id": "1f35fc59-f9ba-48e9-918b-5b8439a9259d",
   "metadata": {},
   "outputs": [],
   "source": [
    "def myprint(testvar):\n",
    "    print(f\"value is {testvar}\")\n",
    "    print(f\"id is{id(testvar)}\")\n",
    "    print(f\"type is{type(testvar)}\")\n"
   ]
  },
  {
   "cell_type": "code",
   "execution_count": null,
   "id": "e0f4ce38-c4cc-47ac-94ce-eebe2dbb554f",
   "metadata": {},
   "outputs": [],
   "source": []
  },
  {
   "cell_type": "code",
   "execution_count": 1,
   "id": "aed4daae-3ca7-45ee-84b5-a3fb4de38993",
   "metadata": {},
   "outputs": [
    {
     "ename": "SyntaxError",
     "evalue": "invalid syntax (2068340692.py, line 1)",
     "output_type": "error",
     "traceback": [
      "\u001b[1;36m  Cell \u001b[1;32mIn[1], line 1\u001b[1;36m\u001b[0m\n\u001b[1;33m    write a program to add three no and rerturn hid vlaue\u001b[0m\n\u001b[1;37m          ^\u001b[0m\n\u001b[1;31mSyntaxError\u001b[0m\u001b[1;31m:\u001b[0m invalid syntax\n"
     ]
    }
   ],
   "source": [
    "write a program to add three no and rerturn hid vlaue\n",
    "\n"
   ]
  },
  {
   "cell_type": "code",
   "execution_count": 3,
   "id": "f937655f-5e24-4e43-a280-d1f190c31b5f",
   "metadata": {},
   "outputs": [
    {
     "ename": "SyntaxError",
     "evalue": "invalid syntax (3152372352.py, line 4)",
     "output_type": "error",
     "traceback": [
      "\u001b[1;36m  Cell \u001b[1;32mIn[3], line 4\u001b[1;36m\u001b[0m\n\u001b[1;33m    return f\"Hello, {name}!\"Calling the function\u001b[0m\n\u001b[1;37m                            ^\u001b[0m\n\u001b[1;31mSyntaxError\u001b[0m\u001b[1;31m:\u001b[0m invalid syntax\n"
     ]
    }
   ],
   "source": [
    "\n",
    "def greet(name):\n",
    "\n",
    "    \"\"\"Greets a person by their name.\"\"\"\n",
    "    return f\"Hello, {name}!\"Calling the function\n",
    "\n"
   ]
  },
  {
   "cell_type": "code",
   "execution_count": 5,
   "id": "367556a4-1f52-4ef9-b8ff-693eab4f5562",
   "metadata": {},
   "outputs": [
    {
     "ename": "NameError",
     "evalue": "name 'greet' is not defined",
     "output_type": "error",
     "traceback": [
      "\u001b[1;31m---------------------------------------------------------------------------\u001b[0m",
      "\u001b[1;31mNameError\u001b[0m                                 Traceback (most recent call last)",
      "Cell \u001b[1;32mIn[5], line 1\u001b[0m\n\u001b[1;32m----> 1\u001b[0m message \u001b[38;5;241m=\u001b[39m greet(\u001b[38;5;124m\"\u001b[39m\u001b[38;5;124mAlice\u001b[39m\u001b[38;5;124m\"\u001b[39m)\n\u001b[0;32m      2\u001b[0m \u001b[38;5;28mprint\u001b[39m(message)\n",
      "\u001b[1;31mNameError\u001b[0m: name 'greet' is not defined"
     ]
    }
   ],
   "source": [
    "message = greet(\"Alice\")\n",
    "print(message)  # Output: Hello, Alice!\n"
   ]
  },
  {
   "cell_type": "code",
   "execution_count": 16,
   "id": "9afa0dbe-22a0-4eb3-93da-51e785f5527e",
   "metadata": {},
   "outputs": [
    {
     "name": "stdout",
     "output_type": "stream",
     "text": [
      "8\n"
     ]
    }
   ],
   "source": [
    "def add(a, b):\n",
    "\n",
    "    \"\"\"Returns the sum of two numbers.\"\"\"\n",
    "    return a + b #Calling the function with arguments\n",
    "result = add(5, 3)\n",
    "print(result)  \n",
    "\n"
   ]
  },
  {
   "cell_type": "code",
   "execution_count": 3,
   "id": "031a17da-2248-4e70-a79f-d8511d5d415d",
   "metadata": {},
   "outputs": [],
   "source": [
    "     def greet(name, message):\n",
    "         return f\"Hello, {name}! {message}\"\n",
    "    print(greet(\"Alice\", \"Welcome to the team!\"))"
   ]
  },
  {
   "cell_type": "code",
   "execution_count": 5,
   "id": "6ebfeeee-12b3-486a-b9f7-6c98a05ed6a9",
   "metadata": {},
   "outputs": [],
   "source": [
    "dict1 = {\n",
    "    \"name\" : \"raj\",\n",
    "    \"batch\" : \"B1\",\n",
    "    \"classTime\":\"8:AM\"\n",
    "}"
   ]
  },
  {
   "cell_type": "code",
   "execution_count": null,
   "id": "a3d340ac-ea7a-4716-97b4-ec55f1fd8d08",
   "metadata": {},
   "outputs": [],
   "source": [
    "def printdicitionary(\"args, **kwargs):\n",
    "   print(args,kwargs)\n",
    "printdicitionary()"
   ]
  },
  {
   "cell_type": "code",
   "execution_count": 10,
   "id": "a74e0c62-bf90-4b01-a92b-1b1b279fb84f",
   "metadata": {},
   "outputs": [
    {
     "ename": "IndentationError",
     "evalue": "unindent does not match any outer indentation level (<string>, line 27)",
     "output_type": "error",
     "traceback": [
      "\u001b[1;36m  File \u001b[1;32m<string>:27\u001b[1;36m\u001b[0m\n\u001b[1;33m    average = total_sum / len(numbers)\u001b[0m\n\u001b[1;37m                                      ^\u001b[0m\n\u001b[1;31mIndentationError\u001b[0m\u001b[1;31m:\u001b[0m unindent does not match any outer indentation level\n"
     ]
    }
   ],
   "source": [
    "def compute_stats(*args):\n",
    "  \n",
    "    \n",
    "    numbers = list(args)\n",
    "\n",
    "    if not numbers:\n",
    "        return {\n",
    "            'sum': 0,\n",
    "            'cumulative_sum': [],\n",
    "            'average': 0,\n",
    "            'minimum': None,\n",
    "            'maximum': None\n",
    "        }\n",
    "\n",
    "    total_sum = 0\n",
    "    cumulative_sum = []\n",
    "    min_value = float('inf')\n",
    "    max_value = float('-inf')\n",
    "    for i, number in enumerate(numbers):\n",
    "        total_sum += number\n",
    "        \n",
    "        cumulative_sum.append(total_sum)\n",
    "        if number < min_value:\n",
    "            min_value = number\n",
    "        if number > max_value:\n",
    "            max_value = number\n",
    "   average = total_sum / len(numbers)\n",
    "\n",
    "    return {\n",
    "        'sum': total_sum,\n",
    "        'cumulative_sum': cumulative_sum,\n",
    "        'average': average,\n",
    "        'minimum': min_value,\n",
    "        'maximum': max_value\n",
    "    }\n",
    "\n",
    "# Example usage:\n",
    "result = compute_stats(1, 2, 3, 4, 5)\n",
    "print(result)\n"
   ]
  },
  {
   "cell_type": "code",
   "execution_count": 12,
   "id": "e154cdfe-b64a-4ae2-8f93-a866566d350f",
   "metadata": {},
   "outputs": [
    {
     "name": "stdout",
     "output_type": "stream",
     "text": [
      "{'sum': 15, 'cumulative_sum': [1, 3, 6, 10, 15], 'average': 3.0, 'minimum': 1, 'maximum': 5}\n"
     ]
    }
   ],
   "source": [
    "def compute_stats(*args):\n",
    "    \"\"\"\n",
    "    Computes various statistics from a list of numerical input arguments.\n",
    "\n",
    "    Parameters:\n",
    "    *args (int, float): A variable number of numerical arguments.\n",
    "\n",
    "    Returns:\n",
    "    dict: A dictionary containing the following statistics:\n",
    "        - 'sum': The sum of the input numbers.\n",
    "        - 'cumulative_sum': A list of cumulative sums up to each index.\n",
    "        - 'average': The average of the input numbers.\n",
    "        - 'minimum': The minimum value among the input numbers.\n",
    "        - 'maximum': The maximum value among the input numbers.\n",
    "    \n",
    "    Example:\n",
    "    >>> compute_stats(1, 2, 3, 4, 5)\n",
    "    {'sum': 15, 'cumulative_sum': [1, 3, 6, 10, 15], 'average': 3.0, 'minimum': 1, 'maximum': 5}\n",
    "    \"\"\"\n",
    "\n",
    "    # Convert input arguments to a list\n",
    "    numbers = list(args)\n",
    "\n",
    "    if not numbers:\n",
    "        return {\n",
    "            'sum': 0,\n",
    "            'cumulative_sum': [],\n",
    "            'average': 0,\n",
    "            'minimum': None,\n",
    "            'maximum': None\n",
    "        }\n",
    "\n",
    "    # Initialize statistics\n",
    "    total_sum = 0\n",
    "    cumulative_sum = []\n",
    "    min_value = float('inf')\n",
    "    max_value = float('-inf')\n",
    "\n",
    "    # Compute the sum, minimum, maximum, and cumulative sum\n",
    "    for i, number in enumerate(numbers):\n",
    "        total_sum += number\n",
    "        cumulative_sum.append(total_sum)\n",
    "        if number < min_value:\n",
    "            min_value = number\n",
    "        if number > max_value:\n",
    "            max_value = number\n",
    "\n",
    "    # Compute the average\n",
    "    average = total_sum / len(numbers)\n",
    "\n",
    "    return {\n",
    "        'sum': total_sum,\n",
    "        'cumulative_sum': cumulative_sum,\n",
    "        'average': average,\n",
    "        'minimum': min_value,\n",
    "        'maximum': max_value\n",
    "    }\n",
    "\n",
    "# Example usage:\n",
    "result = compute_stats(1, 2, 3, 4, 5)\n",
    "print(result)\n"
   ]
  },
  {
   "cell_type": "code",
   "execution_count": null,
   "id": "7dc338bf-d622-4d31-ae07-3423da594a01",
   "metadata": {},
   "outputs": [],
   "source": []
  }
 ],
 "metadata": {
  "kernelspec": {
   "display_name": "Python 3 (ipykernel)",
   "language": "python",
   "name": "python3"
  },
  "language_info": {
   "codemirror_mode": {
    "name": "ipython",
    "version": 3
   },
   "file_extension": ".py",
   "mimetype": "text/x-python",
   "name": "python",
   "nbconvert_exporter": "python",
   "pygments_lexer": "ipython3",
   "version": "3.12.4"
  }
 },
 "nbformat": 4,
 "nbformat_minor": 5
}
