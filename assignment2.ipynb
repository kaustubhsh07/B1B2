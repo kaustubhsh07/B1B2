{
 "cells": [
  {
   "cell_type": "code",
   "execution_count": 2,
   "id": "a581b667-8656-4468-92ad-fd6ebba42ea9",
   "metadata": {
    "tags": []
   },
   "outputs": [],
   "source": [
    "# Write a function greet that takes two arguments: name (a string) and greeting (a string with a default value of \"Hello\"). The function should return a greeting message."
   ]
  },
  {
   "cell_type": "code",
   "execution_count": 8,
   "id": "8d9cf46f-365b-4854-b5c2-937d410f0748",
   "metadata": {
    "tags": []
   },
   "outputs": [
    {
     "name": "stdout",
     "output_type": "stream",
     "text": [
      "Hello, Alice!\n",
      "Hi, Bob!\n"
     ]
    }
   ],
   "source": [
    "def greet(name, greeting=\"Hello\"):\n",
    "    return f\"{greeting}, {name}!\"\n",
    "print(greet(\"Alice\"))\n",
    "print(greet(\"Bob\", \"Hi\"))\n"
   ]
  },
  {
   "cell_type": "code",
   "execution_count": 10,
   "id": "14082d7b-a08e-4657-a272-057a91764771",
   "metadata": {
    "tags": []
   },
   "outputs": [],
   "source": [
    "# Create a function create_profile that takes arguments for name, age, and city as named arguments. The function should return a string like \"Name: Alice, Age: 25, City: New York\". Ensure that the age argument has a default value of 18."
   ]
  },
  {
   "cell_type": "code",
   "execution_count": 12,
   "id": "3289d193-4507-4864-88a7-5cb8a8cc2169",
   "metadata": {
    "tags": []
   },
   "outputs": [
    {
     "name": "stdout",
     "output_type": "stream",
     "text": [
      "Name: Saurabh, Age: 18, City: Haldwani\n",
      "Name: Bob, Age: 25, City: New York\n"
     ]
    }
   ],
   "source": [
    "def create_profile(*, name, age=18, city):\n",
    "    return f\"Name: {name}, Age: {age}, City: {city}\"\n",
    "\n",
    "# Example usage:\n",
    "print(create_profile(name=\"Saurabh\", city=\"Haldwani\"))\n",
    "print(create_profile(name=\"Bob\", age=25, city=\"New York\"))\n"
   ]
  },
  {
   "cell_type": "code",
   "execution_count": 14,
   "id": "bedd1f47-4338-4194-9c3d-857c1dcabae5",
   "metadata": {
    "tags": []
   },
   "outputs": [],
   "source": [
    "# Write a function sum_numbers that takes any number of positional arguments (args) and keyword arguments (*kwargs). It should:\n",
    "# Return the sum of all *args if they are numbers.\n",
    "# Return a dictionary of all keyword arguments."
   ]
  },
  {
   "cell_type": "code",
   "execution_count": 24,
   "id": "4450bfdd-3016-472f-a4f8-a29aff8eb088",
   "metadata": {
    "tags": []
   },
   "outputs": [
    {
     "name": "stdout",
     "output_type": "stream",
     "text": [
      "(6, {'name': 'Saurabh kala', 'age': 25})\n",
      "(8.5, {'country': 'India', 'status': 'Active'})\n"
     ]
    }
   ],
   "source": [
    "def sum_numbers(*args, **kwargs):\n",
    "    # Calculate the sum of all positional arguments\n",
    "    total = sum(arg for arg in args if isinstance(arg, (int, float)))\n",
    "    \n",
    "    # Return the sum of positional arguments and the dictionary of keyword arguments\n",
    "    return total, kwargs\n",
    "print(sum_numbers(1, 2, 3, name=\"Saurabh kala\", age=25))\n",
    "print(sum_numbers(10, -5, 3.5, country=\"India\", status=\"Active\"))\n"
   ]
  },
  {
   "cell_type": "code",
   "execution_count": 18,
   "id": "c317bdad-973c-4c77-b6c3-c567ca7d3d29",
   "metadata": {
    "tags": []
   },
   "outputs": [],
   "source": [
    "# Write a function that uses map and a lambda to return a list where each element is squared."
   ]
  },
  {
   "cell_type": "code",
   "execution_count": 20,
   "id": "79878267-62af-4bbb-b1c6-6da36331e8bf",
   "metadata": {
    "tags": []
   },
   "outputs": [
    {
     "name": "stdout",
     "output_type": "stream",
     "text": [
      "[9, 36, 4, 64, 25]\n"
     ]
    }
   ],
   "source": [
    "def square_elements(numbers):\n",
    "    return list(map(lambda x: x**2, numbers)) # is an anonymous function.\n",
    "print(square_elements([3, 6, 2, 8, 5]))\n"
   ]
  },
  {
   "cell_type": "code",
   "execution_count": 22,
   "id": "f7e94540-3652-4018-a5ac-7c0c928fb029",
   "metadata": {
    "tags": []
   },
   "outputs": [],
   "source": [
    "# Write a function that filters out all odd numbers from a list using filter and a lambda function."
   ]
  },
  {
   "cell_type": "code",
   "execution_count": 26,
   "id": "928e045e-8deb-401f-bc0c-6ac7e02c5718",
   "metadata": {
    "tags": []
   },
   "outputs": [
    {
     "name": "stdout",
     "output_type": "stream",
     "text": [
      "[2, 4, 6, 8, 10]\n"
     ]
    }
   ],
   "source": [
    "def filter_odds(numbers):\n",
    "    return list(filter(lambda x: x % 2 == 0, numbers)) # checks if x is an even number (i.e., not odd).\n",
    "print(filter_odds([1, 2, 3, 4, 5, 6, 7, 8, 9, 10]))"
   ]
  },
  {
   "cell_type": "code",
   "execution_count": 28,
   "id": "1b621041-2553-4630-8ba6-f1ad43ab4ab4",
   "metadata": {
    "tags": []
   },
   "outputs": [],
   "source": [
    "# Create a list comprehension that takes a list of numbers and returns a list of their squares."
   ]
  },
  {
   "cell_type": "code",
   "execution_count": 32,
   "id": "8b4e618c-457b-493f-99ae-9b5ff72d92f7",
   "metadata": {
    "tags": []
   },
   "outputs": [
    {
     "name": "stdout",
     "output_type": "stream",
     "text": [
      "[36, 4, 9, 16, 81]\n"
     ]
    }
   ],
   "source": [
    "def square_elements(numbers):\n",
    "    return [x**2 for x in numbers] # The list comprehension [x**2 for x in numbers] iterates through each element x in the numbers list and computes x squared.\n",
    "print(square_elements([6, 2, 3, 4, 9]))\n"
   ]
  },
  {
   "cell_type": "code",
   "execution_count": 34,
   "id": "a6e603f5-9c66-429c-97d4-60c63f6847c4",
   "metadata": {
    "tags": []
   },
   "outputs": [],
   "source": [
    "# Use a list comprehension to create a list of even numbers from 1 to 20."
   ]
  },
  {
   "cell_type": "code",
   "execution_count": 36,
   "id": "23ee8238-7943-427f-8f4c-5d467c59e942",
   "metadata": {
    "tags": []
   },
   "outputs": [
    {
     "name": "stdout",
     "output_type": "stream",
     "text": [
      "[2, 4, 6, 8, 10, 12, 14, 16, 18, 20]\n"
     ]
    }
   ],
   "source": [
    "even_numbers = [num for num in range(1, 21) if num % 2 == 0]\n",
    "print(even_numbers)"
   ]
  },
  {
   "cell_type": "code",
   "execution_count": 38,
   "id": "53e0df90-ead2-49c2-a9c9-91c3a7f3c368",
   "metadata": {
    "tags": []
   },
   "outputs": [],
   "source": [
    "# Write a Python script that imports only sleep from the time module and renames it to pause. Use it to pause execution for 2 seconds and print \"Paused execution...\"."
   ]
  },
  {
   "cell_type": "code",
   "execution_count": 40,
   "id": "5ba830f0-b974-4540-832d-5efcedef9937",
   "metadata": {
    "tags": []
   },
   "outputs": [
    {
     "name": "stdout",
     "output_type": "stream",
     "text": [
      "Paused execution...\n"
     ]
    }
   ],
   "source": [
    "from time import sleep as pause\n",
    "\n",
    "# Pause execution for 2 seconds\n",
    "pause(2)\n",
    "\n",
    "# Print a message\n",
    "print(\"Paused execution...\")\n"
   ]
  },
  {
   "cell_type": "code",
   "execution_count": 42,
   "id": "67b1c75e-a9d2-427b-8e1e-76d5936f39e6",
   "metadata": {
    "tags": []
   },
   "outputs": [],
   "source": [
    "# Write a recursive function flatten_list that can flatten a nested list of any depth using *args and **kwargs."
   ]
  },
  {
   "cell_type": "code",
   "execution_count": 44,
   "id": "d075c43a-6df6-46e9-ba3a-09c48bc75359",
   "metadata": {
    "tags": []
   },
   "outputs": [
    {
     "name": "stdout",
     "output_type": "stream",
     "text": [
      "[1, 2, 3, 4, 5, 6, 7, 8]\n"
     ]
    }
   ],
   "source": [
    "def flatten_list(*args):\n",
    "    flat_list = []\n",
    "    \n",
    "    for item in args:\n",
    "        if isinstance(item, list):\n",
    "            flat_list.extend(flatten_list(*item))  # Recursively flatten the nested list\n",
    "        else:\n",
    "            flat_list.append(item)  # Add non-list items directly\n",
    "    \n",
    "    return flat_list\n",
    "\n",
    "nested_list = [1, [2, [3, 4], 5], 6, [7, 8]]\n",
    "flattened = flatten_list(*nested_list)\n",
    "print(flattened)\n"
   ]
  },
  {
   "cell_type": "code",
   "execution_count": 46,
   "id": "9d9d477c-49b0-4a26-8d90-9a9769a3b7bc",
   "metadata": {
    "tags": []
   },
   "outputs": [],
   "source": [
    "# using **kwargs"
   ]
  },
  {
   "cell_type": "code",
   "execution_count": 48,
   "id": "368d2bcd-423a-4f7c-a7b8-9eac2dfb8b84",
   "metadata": {
    "tags": []
   },
   "outputs": [
    {
     "name": "stdout",
     "output_type": "stream",
     "text": [
      "[1, 2, 3, 4, 5, 6, 7, 8]\n"
     ]
    }
   ],
   "source": [
    "def flatten_list(nested_list, **kwargs):\n",
    "    flat_list = []\n",
    "    \n",
    "    for item in nested_list:\n",
    "        if isinstance(item, list):\n",
    "            # Recursively flatten the sublist\n",
    "            flat_list.extend(flatten_list(item, **kwargs))\n",
    "        else:\n",
    "            flat_list.append(item)\n",
    "    \n",
    "    return flat_list\n",
    "\n",
    "# Example usage\n",
    "nested = [1, [2, [3, 4], 5], 6, [7, 8]]\n",
    "flattened = flatten_list(nested)\n",
    "print(flattened)\n"
   ]
  },
  {
   "cell_type": "code",
   "execution_count": null,
   "id": "ef90944d-3b82-434d-a73f-9f36f59eaabe",
   "metadata": {},
   "outputs": [],
   "source": []
  }
 ],
 "metadata": {
  "kernelspec": {
   "display_name": "Python 3 (ipykernel)",
   "language": "python",
   "name": "python3"
  },
  "language_info": {
   "codemirror_mode": {
    "name": "ipython",
    "version": 3
   },
   "file_extension": ".py",
   "mimetype": "text/x-python",
   "name": "python",
   "nbconvert_exporter": "python",
   "pygments_lexer": "ipython3",
   "version": "3.11.7"
  }
 },
 "nbformat": 4,
 "nbformat_minor": 5
}
