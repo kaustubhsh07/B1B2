{
 "cells": [
  {
   "cell_type": "code",
   "execution_count": null,
   "id": "b4df05c9-b3b2-4d3f-8dd0-3a8bc13ef322",
   "metadata": {},
   "outputs": [],
   "source": [
    "# Write a program to estimate runtime of all the functions have used so far.\n",
    "import time\n",
    "\n",
    "# A decorator to measure runtime of functions\n",
    "def measure_runtime(func):\n",
    "    def wrapper(*args, **kwargs):\n",
    "        start_time = time.time()  # Record the start time\n",
    "        result = func(*args, **kwargs)  # Call the function\n",
    "        end_time = time.time()  # Record the end time\n",
    "        print(f\"Function '{func.__name__}' executed in {end_time - start_time:.6f} seconds\")\n",
    "        return result\n",
    "    return wrapper\n",
    "\n",
    "# Example functions to test runtime\n",
    "@measure_runtime\n",
    "def function1(n):\n",
    "    sum = 0\n",
    "    for i in range(n):\n",
    "        sum += i\n",
    "    return sum\n",
    "\n",
    "@measure_runtime\n",
    "def function2(x):\n",
    "    time.sleep(x)\n",
    "    return f\"Slept for {x} seconds\"\n",
    "\n",
    "# Main program to call functions\n",
    "if __name__ == \"__main__\":\n",
    "    result1 = function1(1000000)  # Call the first function\n",
    "    result2 = function2(2)        # Call the second function\n"
   ]
  },
  {
   "cell_type": "code",
   "execution_count": 1,
   "id": "1d7f984a-3beb-4f1d-a2c0-7d45c79b8109",
   "metadata": {},
   "outputs": [
    {
     "name": "stdout",
     "output_type": "stream",
     "text": [
      "Function 'function1' executed in 0.082072 seconds\n",
      "Function 'function2' executed in 1.004882 seconds\n",
      "Function 'function3' executed in 0.000000 seconds\n",
      "Function 'function1' executed in 0.030354 seconds\n",
      "Function 'function2' executed in 2.008107 seconds\n",
      "\n",
      "--- Runtime Summary ---\n",
      "Function 'function1' ran 2 times\n",
      "  - Total Time: 0.112426 seconds\n",
      "  - Average Time: 0.056213 seconds\n",
      "Function 'function2' ran 2 times\n",
      "  - Total Time: 3.012990 seconds\n",
      "  - Average Time: 1.506495 seconds\n",
      "Function 'function3' ran 1 times\n",
      "  - Total Time: 0.000000 seconds\n",
      "  - Average Time: 0.000000 seconds\n"
     ]
    }
   ],
   "source": [
    "import time\n",
    "\n",
    "# A dictionary to store runtimes of all functions\n",
    "function_runtimes = {}\n",
    "\n",
    "# A decorator to measure runtime of all functions\n",
    "def track_runtime(func):\n",
    "    def wrapper(*args, **kwargs):\n",
    "        start_time = time.time()  # Record the start time\n",
    "        result = func(*args, **kwargs)  # Execute the function\n",
    "        end_time = time.time()  # Record the end time\n",
    "        \n",
    "        # Calculate the total time taken and update the global dict\n",
    "        runtime = end_time - start_time\n",
    "        if func.__name__ not in function_runtimes:\n",
    "            function_runtimes[func.__name__] = []\n",
    "        function_runtimes[func.__name__].append(runtime)\n",
    "        \n",
    "        print(f\"Function '{func.__name__}' executed in {runtime:.6f} seconds\")\n",
    "        return result\n",
    "    return wrapper\n",
    "\n",
    "# Example functions to track their runtime\n",
    "@track_runtime\n",
    "def function1(n):\n",
    "    total = 0\n",
    "    for i in range(n):\n",
    "        total += i\n",
    "    return total\n",
    "\n",
    "@track_runtime\n",
    "def function2(x):\n",
    "    time.sleep(x)\n",
    "    return f\"Slept for {x} seconds\"\n",
    "\n",
    "@track_runtime\n",
    "def function3(a, b):\n",
    "    return a ** b\n",
    "\n",
    "# Function to display the total recorded runtimes of all functions\n",
    "def show_all_runtimes():\n",
    "    print(\"\\n--- Runtime Summary ---\")\n",
    "    for func_name, runtimes in function_runtimes.items():\n",
    "        total_time = sum(runtimes)\n",
    "        average_time = total_time / len(runtimes)\n",
    "        print(f\"Function '{func_name}' ran {len(runtimes)} times\")\n",
    "        print(f\"  - Total Time: {total_time:.6f} seconds\")\n",
    "        print(f\"  - Average Time: {average_time:.6f} seconds\")\n",
    "\n",
    "# Main program to call and track functions\n",
    "if __name__ == \"__main__\":\n",
    "    result1 = function1(1000000)  # Call function1\n",
    "    result2 = function2(1)        # Call function2\n",
    "    result3 = function3(2, 10)    # Call function3\n",
    "    \n",
    "    # Call the functions again for more data points\n",
    "    result1 = function1(500000)  # Call function1 again\n",
    "    result2 = function2(2)        # Call function2 again\n",
    "\n",
    "    # Show the runtime summary\n",
    "    show_all_runtimes()\n",
    "\n"
   ]
  },
  {
   "cell_type": "code",
   "execution_count": 9,
   "id": "6be73f54-64db-477a-a5f6-5079a945e3bc",
   "metadata": {},
   "outputs": [
    {
     "name": "stdout",
     "output_type": "stream",
     "text": [
      "\n",
      " time to execute function is 0.0 min\n"
     ]
    }
   ],
   "source": [
    "import time as t \n",
    "def testFn():\n",
    "    pass\n",
    "\n",
    "startTime = t.time()\n",
    "testFn()\n",
    "endTime=t.time()\n",
    "runTimeInSec = endTime - startTime \n",
    "print(f\"\\n time to execute function is {runTimeInSec/60} min\")\n",
    " "
   ]
  },
  {
   "cell_type": "code",
   "execution_count": 11,
   "id": "70061ca8-f88a-4896-aa00-bbb175d828be",
   "metadata": {
    "scrolled": true
   },
   "outputs": [
    {
     "name": "stdout",
     "output_type": "stream",
     "text": [
      "\n",
      " time to execute function is 0.0 milliseconds\n"
     ]
    }
   ],
   "source": [
    "import time as t \n",
    "def testFn():\n",
    "    pass\n",
    "\n",
    "startTime = t.time()\n",
    "testFn()\n",
    "endTime=t.time()\n",
    "runTimeInSec = endTime - startTime \n",
    "print(f\"\\n time to execute function is {runTimeInSec*1000} milliseconds\")\n",
    " "
   ]
  },
  {
   "cell_type": "code",
   "execution_count": 13,
   "id": "9a790f9d-0c04-4242-81ba-afeba432be56",
   "metadata": {},
   "outputs": [
    {
     "name": "stdout",
     "output_type": "stream",
     "text": [
      "\n",
      " time to execute function is 0.0 micro seconds\n"
     ]
    }
   ],
   "source": [
    "import time as t \n",
    "def testFn():\n",
    "    pass\n",
    "\n",
    "startTime = t.time()\n",
    "testFn()\n",
    "endTime=t.time()\n",
    "runTimeInSec = endTime - startTime \n",
    "print(f\"\\n time to execute function is {runTimeInSec*1000000} micro seconds\")\n",
    " "
   ]
  },
  {
   "cell_type": "code",
   "execution_count": 19,
   "id": "e10093b9-4151-4293-afbf-303bd12452ce",
   "metadata": {},
   "outputs": [
    {
     "name": "stdout",
     "output_type": "stream",
     "text": [
      "\n",
      " time to execute function is 0.0 micro seconds\n"
     ]
    }
   ],
   "source": [
    "import time as t \n",
    "def testFn():\n",
    "    pass\n",
    "\n",
    "startTime = t.time()\n",
    "testFn()\n",
    "endTime=t.time()\n",
    "runTimeInSec = endTime - startTime \n",
    "print(f\"\\n time to execute function is {runTimeInSec*1000000} micro seconds\")\n",
    "\n",
    "\n",
    "def timeFunction(func, *arg, **kwargs):\n",
    "    startTime=t.time()\n",
    "    res = func(args,kwargs)\n",
    "    endTime() == t.time()\n",
    "    runTimeInSec= endTime - startTime \n",
    "    print(f\"\\n time to execute function is {runTimeInSec*1000000} micro seconds\")\n",
    "\n"
   ]
  },
  {
   "cell_type": "code",
   "execution_count": null,
   "id": "99125765-e756-4759-8252-b35bf163a570",
   "metadata": {},
   "outputs": [],
   "source": [
    "# create a presentation and explain uses of "
   ]
  },
  {
   "cell_type": "code",
   "execution_count": null,
   "id": "93224e7c-aada-4416-a065-a0978397a784",
   "metadata": {},
   "outputs": [],
   "source": [
    "# modify all ur previous functions to print  their execution time "
   ]
  }
 ],
 "metadata": {
  "kernelspec": {
   "display_name": "Python 3 (ipykernel)",
   "language": "python",
   "name": "python3"
  },
  "language_info": {
   "codemirror_mode": {
    "name": "ipython",
    "version": 3
   },
   "file_extension": ".py",
   "mimetype": "text/x-python",
   "name": "python",
   "nbconvert_exporter": "python",
   "pygments_lexer": "ipython3",
   "version": "3.12.4"
  }
 },
 "nbformat": 4,
 "nbformat_minor": 5
}
